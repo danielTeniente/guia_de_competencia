{
 "cells": [
  {
   "cell_type": "markdown",
   "metadata": {},
   "source": [
    "# Una guía para competir"
   ]
  },
  {
   "cell_type": "markdown",
   "metadata": {},
   "source": [
    "Esta serie de notebooks está basada en el libro: \n",
    "* Guide to Competitive Programming: https://link.springer.com/book/10.1007/978-3-319-72547-5  \n"
   ]
  },
  {
   "cell_type": "markdown",
   "metadata": {},
   "source": [
    "El código originalmente se encuentra escrito en C++, decidí volverlo a escribir en python para poder practicar y también porque me da pereza aprender C++ para competir."
   ]
  },
  {
   "cell_type": "markdown",
   "metadata": {},
   "source": [
    "## Algoritmos recursivos"
   ]
  },
  {
   "cell_type": "markdown",
   "metadata": {},
   "source": [
    "\"Un algoritmo recursivo es un algoritmo que expresa la solución de un problema en términos de una llamada a sí mismo. La llamada a sí mismo se conoce como llamada recursiva o recurrente.\"  \n",
    "https://es.wikipedia.org/wiki/Recursi%C3%B3n_(ciencias_de_computaci%C3%B3n)"
   ]
  },
  {
   "cell_type": "markdown",
   "metadata": {},
   "source": [
    "### Backtracking"
   ]
  },
  {
   "cell_type": "markdown",
   "metadata": {},
   "source": [
    "\"Estos problemas consisten en un conjunto (o lista) de variables a la que a cada una se le debe asignar un valor sujeto a las restricciones del problema. La técnica va creando todas las posibles combinaciones de elementos para obtener una solución. Su principal virtud es que en la mayoría de las implementaciones se puede evitar combinaciones, estableciendo funciones de acotación (o poda) reduciendo el tiempo de ejecución.\"  \n",
    "https://es.wikipedia.org/wiki/Vuelta_atr%C3%A1s\n",
    "\n",
    "    "
   ]
  },
  {
   "cell_type": "markdown",
   "metadata": {},
   "source": [
    "#### El problema de las n reinas\n",
    "Este problema fue uno de los primeros que me encontré cuando empecé a estudiar programación competitiva. Curiosamente, nunca logré resolverlo. Así que este notebook es muy importante para mí."
   ]
  },
  {
   "cell_type": "markdown",
   "metadata": {},
   "source": [
    "El problema consiste en colocar n reinas, en un tablero de ajedrez, de tal forma que ninguna se ataqué entre sí. Dependiendo del enunciado, se puede pedir las posiciones de las reinas de una solución, se puede pedir las posiciones de las reinas de todas las posibles soluciones; o simplemente se puede pedir el número de soluciones posibles para este problema. "
   ]
  },
  {
   "cell_type": "markdown",
   "metadata": {},
   "source": [
    "Particularmente, el problema planteado en el libro establece un tablero $n \\times{n}$. Es decir, si la entrada son 8 reinas, el tablero medirá 8 columnas y 8 filas."
   ]
  },
  {
   "cell_type": "code",
   "execution_count": 1,
   "metadata": {},
   "outputs": [
    {
     "name": "stdout",
     "output_type": "stream",
     "text": [
      "92\n"
     ]
    }
   ],
   "source": [
    "#variable global, útil para competencias\n",
    "#no recomendado para desarrollo\n",
    "n=8\n",
    "contador = 0\n",
    "columna = [False]*n\n",
    "diagonal_izquierda = [False]*(n*2)\n",
    "diagonal_derecha = [False]*(n*2)\n",
    "\n",
    "\n",
    "#función recursiva\n",
    "def backtrack(y,n,contador):\n",
    "    if(y==n):\n",
    "        #retorna\n",
    "        return contador + 1\n",
    "    \n",
    "    for x in range(n):\n",
    "        \n",
    "        global columna\n",
    "        global diagonal_izquierda\n",
    "        global diagonal_derecha\n",
    "        \n",
    "        if(columna[x] or diagonal_izquierda[x+y] or diagonal_derecha[x-y+n-1]): \n",
    "            continue\n",
    "        #colocamos una reina\n",
    "        columna[x] = diagonal_izquierda[x+y] = diagonal_derecha[x-y+n-1] = True\n",
    "        #enviamos la fila siguiente\n",
    "        contador = backtrack(y+1,n,contador)\n",
    "        #quitamos la reina para probar otras posibilidades\n",
    "        columna[x] = diagonal_izquierda[x+y] = diagonal_derecha[x-y+n-1] = False\n",
    "        \n",
    "    return contador\n",
    "        \n",
    "        \n",
    "        \n",
    "            \n",
    "print(backtrack(0,n,contador))"
   ]
  },
  {
   "cell_type": "markdown",
   "metadata": {},
   "source": [
    "Este problema resutltó ser más complicado de lo que esperaba. Me tomó unas cuantas horas entender la solución expuesta en el libro, pero finalmente lo logré y espero poder transmitir loo que entendí con claridad."
   ]
  },
  {
   "cell_type": "markdown",
   "metadata": {},
   "source": [
    "Hablemos de las variables globales que declaré:\n",
    "```python\n",
    "#variable global, útil para competencias\n",
    "#no recomendado para desarrollo\n",
    "\n",
    "n=4\n",
    "contador = 0\n",
    "columna = [False]*n\n",
    "diagonal_izquierda = [False]*(n*2)\n",
    "diagonal_derecha = [False]*(n*2)\n",
    "```\n",
    "1. `n` es el número de reinas que habrá en el tablero de tamaño $n \\times{n}$.\n",
    "2. `contador` servirá para llevar la cuenta de las posibles soluciones.  \n",
    "3. `columna = [False]*n` este vector booleanoo nos indicará en qué columna nos encontramos, para evitar que la siguiente reina que coloquemos esté en la misma columna.\n",
    "4. `diagonal_izquierda = [False]*(n*2)` esta lista de aqui junto con su hermana gemela `diagonal_derecha = [False]*(n*2)` fueron las que me rompieron la cabeza. Para poder explicar la existencia de estas listas necesito entrar al código, así que sólo confíen en mí cuando les digo que necesitamos dos arreglos de longitud $n \\times{2}$\n",
    "\n"
   ]
  },
  {
   "cell_type": "markdown",
   "metadata": {},
   "source": [
    "```python    \n",
    "for x in range(n):\n",
    "```\n",
    "Empezamos con este `for`. Como pueden ver la variable que utilizo para controlar el avance del ciclo es `x`. Esto debido a que si vemos el tablero de ajedrez como un plano cartesiano, las columnas serían el eje de las X y las filas el eje de las Y."
   ]
  },
  {
   "cell_type": "markdown",
   "metadata": {},
   "source": [
    "```python\n",
    "columna[x] = diagonal_izquierda[x+y] = diagonal_derecha[x-y+n-1] = True\n",
    "```\n",
    "Esta es la parte de código que me interesa más. En esta línea estamos colocando una reina en el tablero. Concretemente en la columna `x`, fila `y`. Aunque no hay una referencia clara de eso. Por este motivo me tomó tanto tiempo entender el código, pero recordemos que `x` indica la columna y tenemos un vector `columna` donde controlamos que sólo haya una reina. Por eso colocamos la columna `x` en `True`. Todas las veces siguientes que llamemos a la funión se saltará la columna `x`. "
   ]
  },
  {
   "cell_type": "markdown",
   "metadata": {},
   "source": [
    "Ahora pensemos en las diagonales.\n",
    "```python\n",
    "diagonal_izquierda[x+y] = True\n",
    "```\n",
    "¿Por qué ponemos $x + y$ como índice del vector? Esto me tomó timempo meditarlo, y tuve que realizar una prueba de escritorio sobre el papel para entenderlo.\n",
    "\n",
    "Primero quiero mostrarles cómo veo el tablero a la hora de analizarlo.\n",
    "\n",
    "$$\\begin{bmatrix}\n",
    "(0,0)&(1,0)&(2,0)&(3,0) \\\\\n",
    "(0,1)&(1,1)&(2,1)&(3,1) \\\\\n",
    "(0,2)&(1,2)&(2,2)&(3,2) \\\\\n",
    "(0,3)&(1,3)&(2,3)&(3,3) \\\\\n",
    "\\end{bmatrix}$$\n",
    "\n",
    "Ahora quiero mostrarles esta matriz que es la base para la lista `diagonal_izquierda`. La llamo diagonal izquierda porque si se imaginan estando en la parte superior de la matriz, pueden resbalar por los números $3$ terminando en la parte izquierda de la matriz.\n",
    "\n",
    "$$\\begin{bmatrix}\n",
    "0&1&2&3 \\\\\n",
    "1&2&3&4 \\\\\n",
    "2&3&4&5 \\\\\n",
    "3&4&4&6 \\\\\n",
    "\\end{bmatrix}$$\n",
    "\n",
    "Como pueden ver en la matriz superior, si sumamos los índices de las reinas ubicadas en la misma diagonal, la suma será idéntica. De esta forma podermos controlar que dos reinas no se encuentren en la misma diagonla. Si coloco una reina en la casilla (2,2) la suma será 4, lo mismo ocurrirá sí coloco otra reina en la casilla (3,1). Entonces, al colocar el índice `[x+y] = True` estoy previniendo que haya dos reinas en la misma diagonal.\n",
    "\n",
    "$$\\begin{bmatrix}\n",
    "0&1&2&3 \\\\\n",
    "1&2&3&[4] \\\\\n",
    "2&3&[4]&5 \\\\\n",
    "3&4&5&6 \\\\\n",
    "\\end{bmatrix}$$\n",
    "\n",
    "\n"
   ]
  },
  {
   "cell_type": "markdown",
   "metadata": {},
   "source": [
    "Lo mismo ocurre con la otra lista.\n",
    "```python\n",
    "diagonal_derecha[x-y+n-1] = True\n",
    "```\n",
    "Si realizamos las operaciones de los índices obtendremos la siguiente matriz:\n",
    "\n",
    "$$\\begin{bmatrix}\n",
    "3&4&5&6 \\\\\n",
    "2&3&4&5 \\\\\n",
    "1&2&3&4 \\\\\n",
    "0&1&2&3 \\\\\n",
    "\\end{bmatrix}$$\n",
    "\n",
    "Podrán imaginarse por qué la llamo diagonal derecha. Los números $3$ de arriba hacia abajo se mueven a la derecha. Por lo tanto, las reinas que ocupan el puesto (1,0) : $1 - 0 + 4 - 1 = 4$ y (3,2): $3 - 2 + 4 - 1 = 4$ comparten la misma diagonal.\n",
    "\n",
    "$$\\begin{bmatrix}\n",
    "3&[4]&5&6 \\\\\n",
    "2&3&4&5 \\\\\n",
    "1&2&3&[4] \\\\\n",
    "0&1&2&3 \\\\\n",
    "\\end{bmatrix}$$"
   ]
  },
  {
   "cell_type": "markdown",
   "metadata": {},
   "source": [
    "Este `if` previene que coloquemos una reina en la misma columna o en la misma diagonal.\n",
    "```python\n",
    "if(columna[x] or diagonal_izquierda[x+y] or diagonal_derecha[x-y+n-1]): \n",
    "    continue\n",
    "```\n"
   ]
  },
  {
   "cell_type": "markdown",
   "metadata": {},
   "source": [
    "Esta setencia que está después del `if` se encarga de volver a llamar a la función dándole la siguiente fila: `y+1`. Esto implica que nunca habrán dos reinas en la misma fila, porque en el momento en el que colocamos una reina, llamamos a la función con la fila siguiente.\n",
    "\n",
    "```python\n",
    "contador = backtrack(y+1,n,contador)\n",
    "```"
   ]
  },
  {
   "cell_type": "markdown",
   "metadata": {},
   "source": [
    "Cuando el número de filas: `y` es igual al número de reinas: `n`, entonces sabemos que hemos colocado una reina en cada fila y por lo tanto hemos encontrado una solución al problema. Gracias a esto retornamos: `contador + 1`.\n",
    "```python \n",
    "if(y==n):\n",
    "    #retorna\n",
    "    return contador + 1\n",
    "```\n",
    "Al final de la función podemos ver:         \n",
    "```python \n",
    "return contador\n",
    "```\n",
    "Esto es importante porque la función siempre debe retornar, al principio no había puesto este retorno y me encontraba con errores de objetos nulos."
   ]
  },
  {
   "cell_type": "markdown",
   "metadata": {},
   "source": [
    "#### Nota curiosa\n",
    "El número de formas posibles de colocar las reinas incrementa de forma exponencial. Si $n=16$ entonces las posibles soluciones son 14772512. Y una computadora promedio tarda cerca de un minuto en dar una respuesta. (Eso decía en el libro, pero acabo de probarlo en mi computadora y tardó más de un minuto, así que no recomiendo probarlo).  \n",
    "No existe manera eficiente de realizar este cálculo. En 2016 se descubrió el resultado para $n=27$ que es 234907967154122528. Esto fue posible gracias a que los investigadores utilizaron un [Clúster de computadoras](https://es.wikipedia.org/wiki/Cl%C3%BAster_de_computadoras). "
   ]
  },
  {
   "cell_type": "markdown",
   "metadata": {},
   "source": [
    "Espero que esta explicación les sea de utilidad y puedan utilizarla para mejorar su rendimiento en una competencia de programación."
   ]
  },
  {
   "cell_type": "code",
   "execution_count": 2,
   "metadata": {},
   "outputs": [
    {
     "name": "stdout",
     "output_type": "stream",
     "text": [
      "0\n"
     ]
    }
   ],
   "source": [
    "#es imposible poner dos reinas en un tablero 2 x 2\n",
    "#sin que se ataquen\n",
    "n=2\n",
    "contador = 0\n",
    "columna = [False]*n\n",
    "diagonal_izquierda = [False]*(n*2)\n",
    "diagonal_derecha = [False]*(n*2)\n",
    "            \n",
    "print(backtrack(0,n,contador))"
   ]
  },
  {
   "cell_type": "code",
   "execution_count": 4,
   "metadata": {},
   "outputs": [
    {
     "name": "stdout",
     "output_type": "stream",
     "text": [
      "2\n"
     ]
    }
   ],
   "source": [
    "n=4\n",
    "contador = 0\n",
    "columna = [False]*n\n",
    "diagonal_izquierda = [False]*(n*2)\n",
    "diagonal_derecha = [False]*(n*2)\n",
    "            \n",
    "print(backtrack(0,n,contador))   \n"
   ]
  },
  {
   "cell_type": "code",
   "execution_count": 7,
   "metadata": {},
   "outputs": [
    {
     "name": "stdout",
     "output_type": "stream",
     "text": [
      "10\n"
     ]
    }
   ],
   "source": [
    "n=5\n",
    "contador = 0\n",
    "columna = [False]*n\n",
    "diagonal_izquierda = [False]*(n*2)\n",
    "diagonal_derecha = [False]*(n*2)\n",
    "            \n",
    "print(backtrack(0,n,contador))   "
   ]
  },
  {
   "cell_type": "code",
   "execution_count": 9,
   "metadata": {},
   "outputs": [
    {
     "name": "stdout",
     "output_type": "stream",
     "text": [
      "4\n"
     ]
    }
   ],
   "source": [
    "n=6\n",
    "contador = 0\n",
    "columna = [False]*n\n",
    "diagonal_izquierda = [False]*(n*2)\n",
    "diagonal_derecha = [False]*(n*2)\n",
    "            \n",
    "print(backtrack(0,n,contador))   "
   ]
  },
  {
   "cell_type": "code",
   "execution_count": 10,
   "metadata": {},
   "outputs": [
    {
     "name": "stdout",
     "output_type": "stream",
     "text": [
      "40\n"
     ]
    }
   ],
   "source": [
    "n=7\n",
    "contador = 0\n",
    "columna = [False]*n\n",
    "diagonal_izquierda = [False]*(n*2)\n",
    "diagonal_derecha = [False]*(n*2)\n",
    "            \n",
    "print(backtrack(0,n,contador))   "
   ]
  },
  {
   "cell_type": "code",
   "execution_count": 6,
   "metadata": {},
   "outputs": [
    {
     "name": "stdout",
     "output_type": "stream",
     "text": [
      "352\n"
     ]
    }
   ],
   "source": [
    "n=9\n",
    "contador = 0\n",
    "columna = [False]*n\n",
    "diagonal_izquierda = [False]*(n*2)\n",
    "diagonal_derecha = [False]*(n*2)\n",
    "            \n",
    "print(backtrack(0,n,contador))   "
   ]
  },
  {
   "cell_type": "code",
   "execution_count": null,
   "metadata": {},
   "outputs": [],
   "source": []
  }
 ],
 "metadata": {
  "kernelspec": {
   "display_name": "Python 3",
   "language": "python",
   "name": "python3"
  },
  "language_info": {
   "codemirror_mode": {
    "name": "ipython",
    "version": 3
   },
   "file_extension": ".py",
   "mimetype": "text/x-python",
   "name": "python",
   "nbconvert_exporter": "python",
   "pygments_lexer": "ipython3",
   "version": "3.8.5"
  }
 },
 "nbformat": 4,
 "nbformat_minor": 4
}
