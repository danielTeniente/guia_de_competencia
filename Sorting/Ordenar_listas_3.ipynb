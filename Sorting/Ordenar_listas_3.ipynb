{
 "cells": [
  {
   "cell_type": "markdown",
   "metadata": {},
   "source": [
    "# Problemas de horario\n",
    "En este notebok usaremos la técina de ordenar una lista primero para entontrar una respuesta óptima."
   ]
  },
  {
   "cell_type": "markdown",
   "metadata": {},
   "source": [
    "## El problema\n",
    "Imagina que vas a un evento de charlas sobre un tema que te gusta. Hay una gran cantidad de charlas ocurriendo a diferentes horas y de diferente duración. Quieres organizar un horario que abarque la mayor cantidad de charlas posibles.\n",
    "\n",
    "* El evento se abre a las 10 de la mañana y se cierra a las 22 horas. \n",
    "* La primera línea de entrada será el número N de charlas disponibles ese día.\n",
    "* Las siguientes N líneas contienen una letra, que identifica la charla, seguida de dos números enteros separados por espacios que representan la hora de inicio y fin de la película.\n",
    "* Como salida, el código debe imprimir la lista de letras separadas por espacios del horario que más charlas puede abarcar.\n"
   ]
  },
  {
   "cell_type": "markdown",
   "metadata": {},
   "source": [
    "### Ejemplo:\n",
    "Entrada:  \n",
    "4  \n",
    "a 12 14  \n",
    "b 15 16  \n",
    "d 10 14  \n",
    "f 12 20  \n",
    "Salida:  \n",
    "d b  \n",
    "Aunque también es posible:  \n",
    "a b\n",
    "\n",
    "    "
   ]
  },
  {
   "cell_type": "markdown",
   "metadata": {},
   "source": [
    "## Análisis\n",
    "El libro nos ofrece el siguiente análisis para llegar a la solución del problema:  \n",
    "Debes ordenar los eventos de acuerdo a su hora de finalización y elegir el evento posible que termine antes. Evento posible quiere decir que la hora de inicio sea posterior a la hora de finalización del evento anterior."
   ]
  },
  {
   "cell_type": "markdown",
   "metadata": {},
   "source": [
    "## Código\n",
    "Acerca de este problema me preocupa el algoritmo que usaré para ordenar la lista, al parecer puedo usar la función lambda de python, pero no estoy seguro de si eso es lo más eficiente para un campeonato, espermos que sí. "
   ]
  },
  {
   "cell_type": "code",
   "execution_count": 9,
   "metadata": {},
   "outputs": [
    {
     "name": "stdout",
     "output_type": "stream",
     "text": [
      "Número de eventos\n",
      "4\n",
      "['a', '12', '14']\n",
      "['b', '15', '16']\n",
      "['d', '10', '14']\n",
      "['f', '12', '20']\n",
      "a b "
     ]
    }
   ],
   "source": [
    "print(\"Número de eventos\") #esto es solo para ayudar al entendimiento\n",
    "N = int(input())\n",
    "print(N)\n",
    "charlas=[]\n",
    "for i in range(N):\n",
    "    charlas.append(input().split())\n",
    "    print(charlas[-1])\n",
    "#Ordeno las listas por su hora de finalización\n",
    "charlas_ordenadas = sorted(charlas,key = lambda x:x[2])\n",
    "\n",
    "#Elijo la primera charla de la lista y busco la siguiente disponible\n",
    "horario = []\n",
    "horario.append(charlas_ordenadas[0][0]) #letra que identifica la charla\n",
    "ultima_hora = charlas_ordenadas[0][2] #hora de finalización\n",
    "\n",
    "for i in range(1,N):\n",
    "    if(charlas_ordenadas[i][1]>=ultima_hora):\n",
    "        horario.append(charlas_ordenadas[i][0])\n",
    "        ultima_hora = charlas_ordenadas[i][2]\n",
    "        \n",
    "for letra in horario:\n",
    "    print(letra,end=' ')\n",
    "    "
   ]
  },
  {
   "cell_type": "markdown",
   "metadata": {},
   "source": [
    "Para que observes que d b es otra posibilidad, repetiré el ejercicio sin a."
   ]
  },
  {
   "cell_type": "code",
   "execution_count": 10,
   "metadata": {},
   "outputs": [
    {
     "name": "stdout",
     "output_type": "stream",
     "text": [
      "3\n",
      "['b', '15', '16']\n",
      "['d', '10', '14']\n",
      "['f', '12', '20']\n",
      "d b "
     ]
    }
   ],
   "source": [
    "N = int(input())\n",
    "print(N)\n",
    "charlas=[]\n",
    "for i in range(N):\n",
    "    charlas.append(input().split())\n",
    "    print(charlas[-1])\n",
    "#Ordeno las listas por su hora de finalización\n",
    "charlas_ordenadas = sorted(charlas,key = lambda x:x[2])\n",
    "\n",
    "#Elijo la primera charla de la lista y busco la siguiente disponible\n",
    "horario = []\n",
    "horario.append(charlas_ordenadas[0][0]) #letra que identifica la charla\n",
    "ultima_hora = charlas_ordenadas[0][2] #hora de finalización\n",
    "\n",
    "for i in range(1,N):\n",
    "    if(charlas_ordenadas[i][1]>=ultima_hora):\n",
    "        horario.append(charlas_ordenadas[i][0])\n",
    "        ultima_hora = charlas_ordenadas[i][2]\n",
    "        \n",
    "for letra in horario:\n",
    "    print(letra,end=' ')"
   ]
  },
  {
   "cell_type": "markdown",
   "metadata": {},
   "source": [
    "Ya que los eventos están ordenados por su hora de finalización, puedes ver que resolver el problema es tan fácil como hacer un for que recorra la lista ordenada buscando una hora de inicio que sea posterior o igual a la hora de salida de la última charla."
   ]
  },
  {
   "cell_type": "code",
   "execution_count": 11,
   "metadata": {},
   "outputs": [
    {
     "name": "stdout",
     "output_type": "stream",
     "text": [
      "10\n",
      "['a', '10', '12']\n",
      "['b', '11', '12']\n",
      "['c', '10', '13']\n",
      "['d', '11', '13']\n",
      "['e', '12', '20']\n",
      "['f', '13', '15']\n",
      "['g', '15', '16']\n",
      "['h', '10', '16']\n",
      "['i', '20', '21']\n",
      "['j', '18', '22']\n",
      "a f g i "
     ]
    }
   ],
   "source": [
    "N = int(input())\n",
    "print(N)\n",
    "charlas=[]\n",
    "for i in range(N):\n",
    "    charlas.append(input().split())\n",
    "    print(charlas[-1])\n",
    "#Ordeno las listas por su hora de finalización\n",
    "charlas_ordenadas = sorted(charlas,key = lambda x:x[2])\n",
    "\n",
    "#Elijo la primera charla de la lista y busco la siguiente disponible\n",
    "horario = []\n",
    "horario.append(charlas_ordenadas[0][0]) #letra que identifica la charla\n",
    "ultima_hora = charlas_ordenadas[0][2] #hora de finalización\n",
    "\n",
    "for i in range(1,N):\n",
    "    if(charlas_ordenadas[i][1]>=ultima_hora):\n",
    "        horario.append(charlas_ordenadas[i][0])\n",
    "        ultima_hora = charlas_ordenadas[i][2]\n",
    "        \n",
    "for letra in horario:\n",
    "    print(letra,end=' ')"
   ]
  },
  {
   "cell_type": "markdown",
   "metadata": {},
   "source": [
    "En el caso anterior hay varias respuestas posibles. Lo cierto es que tal vez hubiera sido mejor preguntar cuántas charlas puedes tomar en lugar de pedir las letras ordenadas, pero pensé que, en cualquier caso, un programa que te saca el horario es más útil que un programa que te dice cuántas charlas puedes tomar."
   ]
  },
  {
   "cell_type": "markdown",
   "metadata": {},
   "source": [
    "Dependiendo del caso, pudes mejorar este algoritmo para tomar en cuenta las horas libres, ya que la respuesta de este algoritmo tiene un espacio vacío entre g-i de 4 horas, mientras que si tomas g-j, el tiempo libre se reduce a 2 horas y sigue siendo el mismo número de eventos."
   ]
  },
  {
   "cell_type": "code",
   "execution_count": null,
   "metadata": {},
   "outputs": [],
   "source": []
  }
 ],
 "metadata": {
  "kernelspec": {
   "display_name": "Python 3",
   "language": "python",
   "name": "python3"
  },
  "language_info": {
   "codemirror_mode": {
    "name": "ipython",
    "version": 3
   },
   "file_extension": ".py",
   "mimetype": "text/x-python",
   "name": "python",
   "nbconvert_exporter": "python",
   "pygments_lexer": "ipython3",
   "version": "3.6.5"
  }
 },
 "nbformat": 4,
 "nbformat_minor": 2
}
